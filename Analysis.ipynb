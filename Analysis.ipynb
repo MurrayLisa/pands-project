{
 "cells": [
  {
   "cell_type": "code",
   "execution_count": 6,
   "metadata": {},
   "outputs": [
    {
     "name": "stdout",
     "output_type": "stream",
     "text": [
      "Iris-setosa max sepal length is:  5.8\n",
      "Iris-setosa mean sepal length is:  5.005999999999999\n",
      "Iris-setosa min sepal length is:  4.3\n",
      "\n",
      "Iris-setosa max sepal width is:  4.4\n",
      "Iris-setosa mean sepal width is:  3.4180000000000006\n",
      "Iris-setosa min sepal width is:  2.3\n",
      "\n",
      "Iris-setosa max petal length is:  1.9\n",
      "Iris-setosa mean petal length is:  1.464\n",
      "Iris-setosa min petal length is:  1.0\n",
      "\n",
      "Iris-setosa max petal width is:  0.6\n",
      "Iris-setosa mean petal width is:  0.2439999999999999\n",
      "Iris-setosa min petal width is:  0.1\n",
      "\n",
      "The shortest sepal length for all flower type is:  4.3\n",
      "The shortest sepal width for all flower type is:  2.0\n",
      "The shortest petal length for all flower type is:  1.0\n",
      "The shortest petal width for all flower type is:  0.1\n"
     ]
    }
   ],
   "source": [
    "import pandas as pd\n",
    "iris_data = pd.read_csv('data.csv')\n",
    "iris_data2 = iris_data.set_index(\"class\", drop = False)\n",
    "print (\"Iris-setosa max sepal length is: \" , iris_data2.loc[\"Iris-setosa\",\"sepallength\"].max())\n",
    "print (\"Iris-setosa mean sepal length is: \" , iris_data2.loc[\"Iris-setosa\",\"sepallength\"].mean())\n",
    "print (\"Iris-setosa min sepal length is: \" , iris_data2.loc[\"Iris-setosa\",\"sepallength\"].min())\n",
    "print (\"\")\n",
    "print (\"Iris-setosa max sepal width is: \" , iris_data2.loc[\"Iris-setosa\",\"sepalwidth\"].max())\n",
    "print (\"Iris-setosa mean sepal width is: \" , iris_data2.loc[\"Iris-setosa\",\"sepalwidth\"].mean())\n",
    "print (\"Iris-setosa min sepal width is: \" , iris_data2.loc[\"Iris-setosa\",\"sepalwidth\"].min())\n",
    "print (\"\")\n",
    "print (\"Iris-setosa max petal length is: \" , iris_data2.loc[\"Iris-setosa\",\"petallength\"].max())\n",
    "print (\"Iris-setosa mean petal length is: \" , iris_data2.loc[\"Iris-setosa\",\"petallength\"].mean())\n",
    "print (\"Iris-setosa min petal length is: \" , iris_data2.loc[\"Iris-setosa\",\"petallength\"].min())\n",
    "print (\"\")\n",
    "print (\"Iris-setosa max petal width is: \" , iris_data2.loc[\"Iris-setosa\",\"petalwidth\"].max())\n",
    "print (\"Iris-setosa mean petal width is: \" , iris_data2.loc[\"Iris-setosa\",\"petalwidth\"].mean())\n",
    "print (\"Iris-setosa min petal width is: \" , iris_data2.loc[\"Iris-setosa\",\"petalwidth\"].min())\n",
    "print (\"\")\n",
    "print (\"The shortest sepal length for all flower type is: \" , iris_data2[\"sepallength\"].min())\n",
    "print (\"The shortest sepal width for all flower type is: \" , iris_data2[\"sepalwidth\"].min())\n",
    "print (\"The shortest petal length for all flower type is: \" , iris_data2[\"petallength\"].min())\n",
    "print (\"The shortest petal width for all flower type is: \" , iris_data2[\"petalwidth\"].min())"
   ]
  },
  {
   "cell_type": "code",
   "execution_count": null,
   "metadata": {},
   "outputs": [],
   "source": []
  },
  {
   "cell_type": "code",
   "execution_count": null,
   "metadata": {},
   "outputs": [],
   "source": []
  }
 ],
 "metadata": {
  "kernelspec": {
   "display_name": "Python 3",
   "language": "python",
   "name": "python3"
  },
  "language_info": {
   "codemirror_mode": {
    "name": "ipython",
    "version": 3
   },
   "file_extension": ".py",
   "mimetype": "text/x-python",
   "name": "python",
   "nbconvert_exporter": "python",
   "pygments_lexer": "ipython3",
   "version": "3.7.3"
  }
 },
 "nbformat": 4,
 "nbformat_minor": 2
}
